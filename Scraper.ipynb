{
 "cells": [
  {
   "cell_type": "markdown",
   "id": "9709af56",
   "metadata": {},
   "source": [
    "# Scraping the PressGaney Blog"
   ]
  },
  {
   "cell_type": "markdown",
   "id": "53000a5d",
   "metadata": {},
   "source": [
    "**Project Title:** Healthcare Experience Trends Analysis from Press Ganey Blogs (2024-2025)\n",
    "\n",
    "**Author:** Virginia Wenger\n",
    "\n",
    "**Date:** 04.02.2025\n",
    "\n",
    "**Description:** This notebook performs web scraping of Press Ganey's blog articles and applies text analytics to uncover recurring themes and emerging trends in healthcare experience measurement and improvement. The analysis focuses on identifying key themes such as technology integration, patient feedback, and workforce engagement.\n",
    "    \n",
    "**Methods Used:**\n",
    "- Web Scraping (BeautifulSoup, Requests)\n",
    "- Text Preprocessing (NLTK, Regular Expressions)\n",
    "- N-gram Frequency Analysis\n",
    "- Named Entity Recognition (NER) using SpaCy\n",
    "- Topic Modeling using Latent Dirichlet Allocation (LDA)\n",
    "- Sentiment Analysis (TextBlob and Transformer Models)\n",
    "- Summarization using Transformer Models (T5-small)\n",
    "- Data Visualization (Matplotlib, Seaborn)\n",
    "    \n",
    "**Outcome:**\n",
    "\n",
    "The analysis highlights five key trends shaping healthcare experience measurement:\n",
    "- AI & Technology Integration\n",
    "- Patient-Centered Care\n",
    "- Workforce Engagement & Safety\n",
    "- Regulatory Standards\n",
    "- Health Equity & Social Determinants\n"
   ]
  },
  {
   "cell_type": "code",
   "execution_count": 4,
   "id": "de64fe72",
   "metadata": {},
   "outputs": [],
   "source": [
    "from selenium import webdriver\n",
    "from selenium.webdriver.chrome.service import Service\n",
    "from webdriver_manager.chrome import ChromeDriverManager\n",
    "from selenium.webdriver.common.by import By\n",
    "from selenium.webdriver.support.ui import WebDriverWait\n",
    "from selenium.webdriver.support import expected_conditions as EC\n",
    "import time\n",
    "import pandas as pd"
   ]
  },
  {
   "cell_type": "code",
   "execution_count": 2,
   "id": "8be36496",
   "metadata": {},
   "outputs": [
    {
     "name": "stdout",
     "output_type": "stream",
     "text": [
      "Human Experience in Healthcare Blog | Press Ganey\n"
     ]
    }
   ],
   "source": [
    "# Restart with a fresh session\n",
    "options = webdriver.ChromeOptions()\n",
    "options.add_argument(\"--headless\")\n",
    "options.add_argument('--disable-blink-features=AutomationControlled')\n",
    "options.add_argument(\"user-agent=Mozilla/5.0 (Windows NT 10.0; Win64; x64) AppleWebKit/537.36 (KHTML, like Gecko) Chrome/115.0 Safari/537.36\")\n",
    "\n",
    "driver = webdriver.Chrome(service=Service(ChromeDriverManager().install()), options=options)\n",
    "\n",
    "# Open the blog page\n",
    "url = \"https://info.pressganey.com/press-ganey-blog-healthcare-experience-insights\"\n",
    "driver.get(url)\n",
    "time.sleep(5)\n",
    "\n",
    "print(driver.title)  # Check that the session is working"
   ]
  },
  {
   "cell_type": "code",
   "execution_count": 3,
   "id": "118fc9d9",
   "metadata": {},
   "outputs": [
    {
     "name": "stdout",
     "output_type": "stream",
     "text": [
      "Number of articles found: 20\n",
      "First article preview:\n",
      "BLOG\n",
      "AI for safety leaders: How will emerging technology impact our daily work in healthcare?\n",
      "Read blog\n"
     ]
    }
   ],
   "source": [
    "# Find all <article> elements on the page\n",
    "articles = driver.find_elements(By.TAG_NAME, 'article')\n",
    "\n",
    "# Check how many articles were found\n",
    "print(f\"Number of articles found: {len(articles)}\")\n",
    "\n",
    "# Print the text of the first article to verify\n",
    "if articles:\n",
    "    print(\"First article preview:\")\n",
    "    print(articles[0].text)\n",
    "else:\n",
    "    print(\"No articles found.\")"
   ]
  },
  {
   "cell_type": "code",
   "execution_count": 14,
   "id": "304d2909",
   "metadata": {},
   "outputs": [
    {
     "name": "stdout",
     "output_type": "stream",
     "text": [
      "See More button found and is clickable.\n"
     ]
    }
   ],
   "source": [
    "try:\n",
    "    # Wait until the 'See More' button is clickable\n",
    "    see_more_button = WebDriverWait(driver, 10).until(\n",
    "        EC.element_to_be_clickable((By.ID, 'uf-lazy-loader-load-more'))\n",
    "    )\n",
    "    print(\"See More button found and is clickable.\")\n",
    "except Exception as e:\n",
    "    print(\"See More button not found or not clickable.\", e)"
   ]
  },
  {
   "cell_type": "code",
   "execution_count": 16,
   "id": "0cc7c3ff",
   "metadata": {},
   "outputs": [
    {
     "name": "stdout",
     "output_type": "stream",
     "text": [
      "Failed to click 'See More' button. Message: element click intercepted: Element <button id=\"uf-lazy-loader-load-more\" type=\"button\" class=\"uf-lazy-loader-load-more uf-button is-primary is-margin-centered\">...</button> is not clickable at point (599, 32). Other element would receive the click: <div class=\"mega-dropdown-section\">...</div>\n",
      "  (Session info: chrome=132.0.6834.160)\n",
      "Stacktrace:\n",
      "0   chromedriver                        0x000000010067b0d4 cxxbridge1$str$ptr + 2600792\n",
      "1   chromedriver                        0x00000001006739f0 cxxbridge1$str$ptr + 2570356\n",
      "2   chromedriver                        0x00000001002143d8 cxxbridge1$string$len + 89376\n",
      "3   chromedriver                        0x000000010025ed44 cxxbridge1$string$len + 394892\n",
      "4   chromedriver                        0x000000010025d320 cxxbridge1$string$len + 388200\n",
      "5   chromedriver                        0x000000010025b1fc cxxbridge1$string$len + 379716\n",
      "6   chromedriver                        0x000000010025a62c cxxbridge1$string$len + 376692\n",
      "7   chromedriver                        0x000000010024f200 cxxbridge1$string$len + 330568\n",
      "8   chromedriver                        0x000000010024eca4 cxxbridge1$string$len + 329196\n",
      "9   chromedriver                        0x0000000100293638 cxxbridge1$string$len + 610176\n",
      "10  chromedriver                        0x000000010024d34c cxxbridge1$string$len + 322708\n",
      "11  chromedriver                        0x000000010024df94 cxxbridge1$string$len + 325852\n",
      "12  chromedriver                        0x0000000100646238 cxxbridge1$str$ptr + 2384060\n",
      "13  chromedriver                        0x0000000100649550 cxxbridge1$str$ptr + 2397140\n",
      "14  chromedriver                        0x000000010062cb9c cxxbridge1$str$ptr + 2279968\n",
      "15  chromedriver                        0x0000000100649e10 cxxbridge1$str$ptr + 2399380\n",
      "16  chromedriver                        0x000000010061e6a4 cxxbridge1$str$ptr + 2221352\n",
      "17  chromedriver                        0x00000001006647d8 cxxbridge1$str$ptr + 2508380\n",
      "18  chromedriver                        0x0000000100664954 cxxbridge1$str$ptr + 2508760\n",
      "19  chromedriver                        0x0000000100673664 cxxbridge1$str$ptr + 2569448\n",
      "20  libsystem_pthread.dylib             0x000000019c3c6f94 _pthread_start + 136\n",
      "21  libsystem_pthread.dylib             0x000000019c3c1d34 thread_start + 8\n",
      "\n"
     ]
    }
   ],
   "source": [
    "try:\n",
    "    # Scroll to the 'See More' button before clicking\n",
    "    driver.execute_script(\"arguments[0].scrollIntoView(true);\", see_more_button)\n",
    "    time.sleep(2)  # Give time for any animations or dynamic effects\n",
    "\n",
    "    # Click the button\n",
    "    see_more_button.click()\n",
    "    print(\"Clicked 'See More' button.\")\n",
    "    time.sleep(5)  # Wait for new articles to load\n",
    "except Exception as e:\n",
    "    print(\"Failed to click 'See More' button.\", e)\n"
   ]
  },
  {
   "cell_type": "code",
   "execution_count": 19,
   "id": "50bf9017",
   "metadata": {},
   "outputs": [
    {
     "name": "stdout",
     "output_type": "stream",
     "text": [
      "No more 'See More' button found or all articles loaded.\n"
     ]
    }
   ],
   "source": [
    "while True:\n",
    "    try:\n",
    "        # Wait for 'See More' button to be clickable\n",
    "        see_more_button = WebDriverWait(driver, 10).until(\n",
    "            EC.element_to_be_clickable((By.ID, 'uf-lazy-loader-load-more'))\n",
    "        )\n",
    "\n",
    "        # Scroll to the button and click\n",
    "        driver.execute_script(\"arguments[0].scrollIntoView(true);\", see_more_button)\n",
    "        time.sleep(2)\n",
    "        see_more_button.click()\n",
    "        print(\"Clicked 'See More' button.\")\n",
    "        time.sleep(5)  # Wait for articles to load\n",
    "    except:\n",
    "        print(\"No more 'See More' button found or all articles loaded.\")\n",
    "        break\n"
   ]
  },
  {
   "cell_type": "code",
   "execution_count": 20,
   "id": "acc59afa",
   "metadata": {},
   "outputs": [
    {
     "name": "stdout",
     "output_type": "stream",
     "text": [
      "Total articles loaded: 40\n",
      "First article after loading all content:\n",
      "BLOG\n",
      "AI for safety leaders: How will emerging technology impact our daily work in healthcare?\n",
      "Read blog\n"
     ]
    }
   ],
   "source": [
    "# Find all loaded <article> elements\n",
    "articles = driver.find_elements(By.TAG_NAME, 'article')\n",
    "\n",
    "# Check how many articles were found after loading\n",
    "print(f\"Total articles loaded: {len(articles)}\")\n",
    "\n",
    "# Preview the first article to verify\n",
    "if articles:\n",
    "    print(\"First article after loading all content:\")\n",
    "    print(articles[0].text)\n",
    "else:\n",
    "    print(\"No articles found after clicking 'See More'.\")"
   ]
  },
  {
   "cell_type": "code",
   "execution_count": 21,
   "id": "22e695aa",
   "metadata": {},
   "outputs": [
    {
     "name": "stdout",
     "output_type": "stream",
     "text": [
      "Collected 40 article links.\n",
      "https://info.pressganey.com/press-ganey-blog-healthcare-experience-insights/ai-safety-leaders\n",
      "https://info.pressganey.com/press-ganey-blog-healthcare-experience-insights/early-updates-healthcare-policy\n",
      "https://info.pressganey.com/press-ganey-blog-healthcare-experience-insights/mcahps-2025-changes\n",
      "https://info.pressganey.com/press-ganey-blog-healthcare-experience-insights/2025-themes\n",
      "https://info.pressganey.com/press-ganey-blog-healthcare-experience-insights/health-outcome-surveys-2026\n"
     ]
    }
   ],
   "source": [
    "# Extract links from all loaded articles\n",
    "article_links = []\n",
    "\n",
    "for article in articles:\n",
    "    try:\n",
    "        link_tag = article.find_element(By.TAG_NAME, 'a')\n",
    "        link = link_tag.get_attribute('href')\n",
    "        if link and link.startswith('https://info.pressganey.com/press-ganey-blog-healthcare-experience-insights/'):\n",
    "            article_links.append(link)\n",
    "    except Exception as e:\n",
    "        print(f\"Error extracting link: {e}\")\n",
    "\n",
    "# Display the collected links\n",
    "print(f\"Collected {len(article_links)} article links.\")\n",
    "for link in article_links[:5]:  # Preview the first 5 links\n",
    "    print(link)"
   ]
  },
  {
   "cell_type": "code",
   "execution_count": 22,
   "id": "8b1d2bf3",
   "metadata": {},
   "outputs": [
    {
     "name": "stdout",
     "output_type": "stream",
     "text": [
      "Loaded article: https://info.pressganey.com/press-ganey-blog-healthcare-experience-insights/ai-safety-leaders\n"
     ]
    }
   ],
   "source": [
    "# Load the first article to start testing\n",
    "test_link = article_links[0]  # Select the first article link\n",
    "driver.get(test_link)\n",
    "print(f\"Loaded article: {test_link}\")\n",
    "\n",
    "# Pause to ensure the page is fully loaded\n",
    "time.sleep(3)\n"
   ]
  },
  {
   "cell_type": "code",
   "execution_count": 23,
   "id": "0514f30d",
   "metadata": {},
   "outputs": [
    {
     "name": "stdout",
     "output_type": "stream",
     "text": [
      "Title: AI for safety leaders: How will emerging technology impact our daily work in healthcare?\n"
     ]
    }
   ],
   "source": [
    "# Extract the article title\n",
    "try:\n",
    "    title = driver.find_element(By.TAG_NAME, 'h1').text\n",
    "    print(f\"Title: {title}\")\n",
    "except Exception as e:\n",
    "    print(f\"Failed to extract title: {e}\")"
   ]
  },
  {
   "cell_type": "code",
   "execution_count": 24,
   "id": "48533d93",
   "metadata": {},
   "outputs": [
    {
     "name": "stdout",
     "output_type": "stream",
     "text": [
      "Publish Date: 31 January 2025\n"
     ]
    }
   ],
   "source": [
    "# Extract the publish date\n",
    "try:\n",
    "    date = driver.find_element(By.CLASS_NAME, 'uf-datetime').text\n",
    "    print(f\"Publish Date: {date}\")\n",
    "except Exception as e:\n",
    "    print(f\"Failed to extract date: {e}\")"
   ]
  },
  {
   "cell_type": "code",
   "execution_count": 26,
   "id": "bea56671",
   "metadata": {},
   "outputs": [
    {
     "name": "stdout",
     "output_type": "stream",
     "text": [
      "Content Preview: Artificial intelligence (AI) is revolutionizing the healthcare landscape as we speak. Its extraordinary potential to streamline processes, sharpen decision-making, and improve efficiencies is becoming increasingly evident. And its impact on safety leaders is no exception.  While much of the conversation has centered around rapid technological and futuristic innovations, its most profound effects may also be seen and felt in the day-to-day work of improving patient safety by improving  data quali...\n"
     ]
    }
   ],
   "source": [
    "# Extract the article content\n",
    "try:\n",
    "    content_section = driver.find_element(By.ID, 'uf-item-blog-content')\n",
    "    paragraphs = content_section.find_elements(By.TAG_NAME, 'p')\n",
    "    \n",
    "    # Combine all paragraph texts\n",
    "    content = ' '.join([p.text for p in paragraphs])\n",
    "    print(f\"Content Preview: {content[:500]}...\")  # Preview first 500 characters\n",
    "except Exception as e:\n",
    "    print(f\"Failed to extract content: {e}\")\n"
   ]
  },
  {
   "cell_type": "code",
   "execution_count": 27,
   "id": "97813a8f",
   "metadata": {},
   "outputs": [
    {
     "name": "stdout",
     "output_type": "stream",
     "text": [
      "\n",
      "Extracted Article Data:\n",
      "{'url': 'https://info.pressganey.com/press-ganey-blog-healthcare-experience-insights/ai-safety-leaders', 'title': 'AI for safety leaders: How will emerging technology impact our daily work in healthcare?', 'date': '31 January 2025', 'content': 'Artificial intelligence (AI) is revolutionizing the healthcare landscape as we speak. Its extraordinary potential to streamline processes, sharpen decision-making, and improve efficiencies is becoming increasingly evident. And its impact on safety leaders is no exception.  While much of the conversation has centered around rapid technological and futuristic innovations, its most profound effects may also be seen and felt in the day-to-day work of improving patient safety by improving  data quality and, empowering safety leaders to make more informed decisions, anticipate risks earlier, and develop stronger interventions. Healthcare safety leaders must first recognize their essential role in AI governance. Robust governance frameworks ensure AI tools are aligned with clinical priorities, ethically and safely deployed, and focused on measurable improvements. AI governance requires collaboration across departments, including IT, compliance, quality, and safety, and clinical leadership. As safety leaders, we must champion patient safety as a cornerstone of AI integration, ensuring that AI is both designed and implemented safely, and monitored for unintended consequences like bias or privacy violations. AI offers several powerful opportunities to refine healthcare processes and amplify impact. We’re at a pivotal moment. AI unlocks immense capabilities that go far beyond streamlining processes and accelerating time from insight to action. It puts the power in our hands to strengthen human connections in an increasingly digital world. We’re already seeing the tremendous strides AI is making in addressing some of the most pressing safety issues. And it will only accelerate from here. For safety leaders, this is both an opportunity and a call to action. By embracing AI thoughtfully and strategically, we can make care safer, more efficient, and more human-centered. The future of healthcare leadership isn’t just about keeping up with technology—it’s about harnessing it to create a better system for patients, clinicians, and organizations alike. At Press Ganey, we’re embedding AI into our solutions and core capabilities, including our high reliability platform (HRP), Patient Safety Organization (PSO), and patient comment analysis. These innovations will help healthcare leaders proactively identify trends, predict risks, and deliver safe, higher-quality, and more compassionate care. To continue the conversations around artificial intelligence and safety in healthcare, reach out to a member of Press Ganey’s safety team.   As Chief Safety and Transformation Officer, Dr. Gandhi, MPH, CPPS is responsible for improving patient and workforce safety, and developing innovative healthcare transformation strategies. She leads the Zero Harm movement and helps healthcare organizations recognize inequity as a type of harm for both patients and the workforce. Dr. Gandhi also leads the Press Ganey Equity Partnership, a collaborative initiative dedicated to addressing healthcare disparities and the impact of racial inequities on patients and caregivers. Before joining Press Ganey, Dr. Gandhi served as Chief Clinical and Safety Officer at the Institute for Healthcare Improvement (IHI), where she led IHI programs focused on improving patient and workforce safety.  Stay in the know. Join our email list. '}\n"
     ]
    }
   ],
   "source": [
    "# Combine the extracted data\n",
    "article_data = {\n",
    "    'url': test_link,\n",
    "    'title': title,\n",
    "    'date': date,\n",
    "    'content': content\n",
    "}\n",
    "\n",
    "# Display the complete extracted data\n",
    "print(\"\\nExtracted Article Data:\")\n",
    "print(article_data)\n"
   ]
  },
  {
   "cell_type": "code",
   "execution_count": 28,
   "id": "f6e553a2",
   "metadata": {},
   "outputs": [
    {
     "name": "stdout",
     "output_type": "stream",
     "text": [
      "Scraping article 1 of 40: https://info.pressganey.com/press-ganey-blog-healthcare-experience-insights/ai-safety-leaders\n",
      "Scraping article 2 of 40: https://info.pressganey.com/press-ganey-blog-healthcare-experience-insights/early-updates-healthcare-policy\n",
      "Scraping article 3 of 40: https://info.pressganey.com/press-ganey-blog-healthcare-experience-insights/mcahps-2025-changes\n",
      "Scraping article 4 of 40: https://info.pressganey.com/press-ganey-blog-healthcare-experience-insights/2025-themes\n",
      "Scraping article 5 of 40: https://info.pressganey.com/press-ganey-blog-healthcare-experience-insights/health-outcome-surveys-2026\n",
      "Scraping article 6 of 40: https://info.pressganey.com/press-ganey-blog-healthcare-experience-insights/hx-2025-organizational-resilience\n",
      "Scraping article 7 of 40: https://info.pressganey.com/press-ganey-blog-healthcare-experience-insights/community-advisor\n",
      "Scraping article 8 of 40: https://info.pressganey.com/press-ganey-blog-healthcare-experience-insights/white-house-conference-on-womens-health-research\n",
      "Scraping article 9 of 40: https://info.pressganey.com/press-ganey-blog-healthcare-experience-insights/2024-key-takeaways\n",
      "Scraping article 10 of 40: https://info.pressganey.com/press-ganey-blog-healthcare-experience-insights/ai-healthcare-safety\n",
      "Scraping article 11 of 40: https://info.pressganey.com/press-ganey-blog-healthcare-experience-insights/net-promoter-score-best-practices-for-healthcare-organizations\n",
      "Scraping article 12 of 40: https://info.pressganey.com/press-ganey-blog-healthcare-experience-insights/navigating-the-healthcare-market\n",
      "Scraping article 13 of 40: https://info.pressganey.com/press-ganey-blog-healthcare-experience-insights/whats-next-in-healthcare-consumer-experience\n",
      "Scraping article 14 of 40: https://info.pressganey.com/press-ganey-blog-healthcare-experience-insights/new-era-of-nursing\n",
      "Scraping article 15 of 40: https://info.pressganey.com/press-ganey-blog-healthcare-experience-insights/better-nurse-work-environments\n",
      "Scraping article 16 of 40: https://info.pressganey.com/press-ganey-blog-healthcare-experience-insights/health-plan-cms-star-ratings\n",
      "Scraping article 17 of 40: https://info.pressganey.com/press-ganey-blog-healthcare-experience-insights/how-provider-directories-are-transforming-patient-access-to-treatment\n",
      "Scraping article 18 of 40: https://info.pressganey.com/press-ganey-blog-healthcare-experience-insights/insights-2024-cahps-survey-season\n",
      "Scraping article 19 of 40: https://info.pressganey.com/press-ganey-blog-healthcare-experience-insights/unlocking-the-power-of-nps-in-healthcare\n",
      "Scraping article 20 of 40: https://info.pressganey.com/press-ganey-blog-healthcare-experience-insights/cms-proposes-the-patient-safety-structural-measure-to-strengthen-systems-for-safety\n",
      "Scraping article 21 of 40: https://info.pressganey.com/press-ganey-blog-healthcare-experience-insights/enhancing-healthcare-safety-with-artificial-intelligence\n",
      "Scraping article 22 of 40: https://info.pressganey.com/press-ganey-blog-healthcare-experience-insights/unlocking-patient-acquisition\n",
      "Scraping article 23 of 40: https://info.pressganey.com/press-ganey-blog-healthcare-experience-insights/how-generative-ai-overviews-are-transforming-healthcare-information-search\n",
      "Scraping article 24 of 40: https://info.pressganey.com/press-ganey-blog-healthcare-experience-insights/press-ganey-joins-leading-organizations-in-white-house-commitment-to-healthcare-safety\n",
      "Scraping article 25 of 40: https://info.pressganey.com/press-ganey-blog-healthcare-experience-insights/quality-foundations-and-effective-leadership-the-recipe-for-better-clinical-outcomes\n",
      "Scraping article 26 of 40: https://info.pressganey.com/press-ganey-blog-healthcare-experience-insights/world-patient-safety-day-2024\n",
      "Scraping article 27 of 40: https://info.pressganey.com/press-ganey-blog-healthcare-experience-insights/physician-experience-2024-trends\n",
      "Scraping article 28 of 40: https://info.pressganey.com/press-ganey-blog-healthcare-experience-insights/3-ways-to-drive-growth-via-a-consumer-focused-healthcare-marketing-strategy\n",
      "Scraping article 29 of 40: https://info.pressganey.com/press-ganey-blog-healthcare-experience-insights/enhancing-patient-experience-in-ascs-with-oas-cahps\n",
      "Scraping article 30 of 40: https://info.pressganey.com/press-ganey-blog-healthcare-experience-insights/higher-rn-turnover-increased-patient-falls-cost\n",
      "Scraping article 31 of 40: https://info.pressganey.com/press-ganey-blog-healthcare-experience-insights/patient-experience-in-2024-bridging-the-gap\n",
      "Scraping article 32 of 40: https://info.pressganey.com/press-ganey-blog-healthcare-experience-insights/unlocking-health-plan-potential-the-power-of-timely-member-data\n",
      "Scraping article 33 of 40: https://info.pressganey.com/press-ganey-blog-healthcare-experience-insights/qhp-secret-shopper-ensuring-timely-access-to-care\n",
      "Scraping article 34 of 40: https://info.pressganey.com/press-ganey-blog-healthcare-experience-insights/employee-engagement-in-2024-trends\n",
      "Scraping article 35 of 40: https://info.pressganey.com/press-ganey-blog-healthcare-experience-insights/oas-cahps-101-what-hospital-outpatient-departments-and-ambulatory-surgical-centers-need-to-know\n",
      "Scraping article 36 of 40: https://info.pressganey.com/press-ganey-blog-healthcare-experience-insights/communication-drives-positive-relationships\n",
      "Scraping article 37 of 40: https://info.pressganey.com/press-ganey-blog-healthcare-experience-insights/amplifying-lgbtqia-voices-for-improved-health-and-care\n",
      "Scraping article 38 of 40: https://info.pressganey.com/press-ganey-blog-healthcare-experience-insights/your-comprehensive-guide-to-the-press-ganey-national-database-of-nursing-quality-indicators-ndnqi\n",
      "Scraping article 39 of 40: https://info.pressganey.com/press-ganey-blog-healthcare-experience-insights/ascs-must-embrace-oas-cahps-now\n",
      "Scraping article 40 of 40: https://info.pressganey.com/press-ganey-blog-healthcare-experience-insights/the-cahps-advantage-how-continuous-listening-drives-5-star-success\n",
      "Title: AI for safety leaders: How will emerging technology impact our daily work in healthcare?\n",
      "Date: 31 January 2025\n",
      "Content Preview: Artificial intelligence (AI) is revolutionizing the healthcare landscape as we speak. Its extraordinary potential to streamline processes, sharpen decision-making, and improve efficiencies is becoming increasingly evident. And its impact on safety leaders is no exception.  While much of the conversa...\n",
      "\n",
      "Title: Early updates from the new administration on healthcare policy\n",
      "Date: 23 January 2025\n",
      "Content Preview: As the new administration begins its term, it’s already taken significant action through executive orders (EOs), some of which could affect healthcare policies and agencies like HHS and CMS. As such, we’d like to highlight three key activities: One of the early actions was a regulatory freeze EO—a c...\n",
      "\n",
      "Title: MCAHPS 2025: Your guide to the latest changes\n",
      "Date: 22 January 2025\n",
      "Content Preview: The Medicare Consumer Assessment of Healthcare Providers and Systems (MCAHPS) survey is an essential tool for evaluating Medicare Advantage (MA) and Prescription Drug Plan (PDP) enrollees' satisfaction with their health plans and providers. Just like last year’s MCAHPS 2024, some significant changes...\n",
      "\n"
     ]
    }
   ],
   "source": [
    "# Function to scrape title, date, and content from each article\n",
    "def scrape_article_content(links):\n",
    "    contents = []\n",
    "\n",
    "    for idx, link in enumerate(links):\n",
    "        driver.get(link)\n",
    "        time.sleep(3)  # Wait for the page to load\n",
    "\n",
    "        print(f\"Scraping article {idx + 1} of {len(links)}: {link}\")\n",
    "\n",
    "        # Extract title\n",
    "        try:\n",
    "            title = driver.find_element(By.TAG_NAME, 'h1').text\n",
    "        except:\n",
    "            title = \"No Title Found\"\n",
    "        \n",
    "        # Extract publish date\n",
    "        try:\n",
    "            date = driver.find_element(By.CLASS_NAME, 'uf-datetime').text\n",
    "        except:\n",
    "            date = \"No Date Found\"\n",
    "\n",
    "        # Extract article content\n",
    "        try:\n",
    "            content_section = driver.find_element(By.ID, 'uf-item-blog-content')\n",
    "            paragraphs = content_section.find_elements(By.TAG_NAME, 'p')\n",
    "            content = ' '.join([p.text for p in paragraphs])\n",
    "        except:\n",
    "            content = \"No Content Found\"\n",
    "\n",
    "        # Append the extracted data to the list\n",
    "        contents.append({\n",
    "            'url': link,\n",
    "            'title': title,\n",
    "            'date': date,\n",
    "            'content': content\n",
    "        })\n",
    "\n",
    "    return contents\n",
    "\n",
    "# Run the function to scrape all articles\n",
    "article_data = scrape_article_content(article_links)\n",
    "\n",
    "# Display a sample of the scraped articles\n",
    "for article in article_data[:3]:\n",
    "    print(f\"Title: {article['title']}\")\n",
    "    print(f\"Date: {article['date']}\")\n",
    "    print(f\"Content Preview: {article['content'][:300]}...\\n\")"
   ]
  },
  {
   "cell_type": "code",
   "execution_count": 29,
   "id": "0f965edd",
   "metadata": {},
   "outputs": [
    {
     "name": "stdout",
     "output_type": "stream",
     "text": [
      "                                                 url  \\\n",
      "0  https://info.pressganey.com/press-ganey-blog-h...   \n",
      "1  https://info.pressganey.com/press-ganey-blog-h...   \n",
      "2  https://info.pressganey.com/press-ganey-blog-h...   \n",
      "3  https://info.pressganey.com/press-ganey-blog-h...   \n",
      "4  https://info.pressganey.com/press-ganey-blog-h...   \n",
      "\n",
      "                                               title             date  \\\n",
      "0  AI for safety leaders: How will emerging techn...  31 January 2025   \n",
      "1  Early updates from the new administration on h...  23 January 2025   \n",
      "2      MCAHPS 2025: Your guide to the latest changes  22 January 2025   \n",
      "3               3 critical strategic themes for 2025  21 January 2025   \n",
      "4  How Health Outcome Surveys will play a crucial...  17 January 2025   \n",
      "\n",
      "                                             content  \n",
      "0  Artificial intelligence (AI) is revolutionizin...  \n",
      "1  As the new administration begins its term, it’...  \n",
      "2  The Medicare Consumer Assessment of Healthcare...  \n",
      "3  2025 is off to a wild start in everything, eve...  \n",
      "4  As the landscape of Medicare Advantage (MA) St...  \n"
     ]
    }
   ],
   "source": [
    "# Convert the scraped data to a DataFrame\n",
    "df_articles = pd.DataFrame(article_data)\n",
    "\n",
    "# Save the DataFrame to a CSV file\n",
    "df_articles.to_csv('data/press_ganey_blog_articles.csv', index=False)\n",
    "\n",
    "# Display the first few articles to verify\n",
    "print(df_articles.head())\n"
   ]
  },
  {
   "cell_type": "code",
   "execution_count": null,
   "id": "7ec61d20",
   "metadata": {},
   "outputs": [],
   "source": []
  }
 ],
 "metadata": {
  "kernelspec": {
   "display_name": "Python 3 (ipykernel)",
   "language": "python",
   "name": "python3"
  },
  "language_info": {
   "codemirror_mode": {
    "name": "ipython",
    "version": 3
   },
   "file_extension": ".py",
   "mimetype": "text/x-python",
   "name": "python",
   "nbconvert_exporter": "python",
   "pygments_lexer": "ipython3",
   "version": "3.10.6"
  },
  "toc": {
   "base_numbering": 1,
   "nav_menu": {},
   "number_sections": true,
   "sideBar": true,
   "skip_h1_title": false,
   "title_cell": "Table of Contents",
   "title_sidebar": "Contents",
   "toc_cell": false,
   "toc_position": {},
   "toc_section_display": true,
   "toc_window_display": false
  }
 },
 "nbformat": 4,
 "nbformat_minor": 5
}
